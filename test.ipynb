{
 "metadata": {
  "language_info": {
   "codemirror_mode": {
    "name": "ipython",
    "version": 3
   },
   "file_extension": ".py",
   "mimetype": "text/x-python",
   "name": "python",
   "nbconvert_exporter": "python",
   "pygments_lexer": "ipython3",
   "version": "3.6.6-final"
  },
  "orig_nbformat": 2,
  "kernelspec": {
   "name": "python3",
   "display_name": "Python 3.6.6 64-bit",
   "metadata": {
    "interpreter": {
     "hash": "ea1d30b81493ad4e83832c30fd2d1afdd89257e8ee88b0c08169d2ce4111f838"
    }
   }
  }
 },
 "nbformat": 4,
 "nbformat_minor": 2,
 "cells": [
  {
   "cell_type": "code",
   "execution_count": 1,
   "metadata": {},
   "outputs": [
    {
     "output_type": "execute_result",
     "data": {
      "text/plain": [
       "'e:\\\\Python\\\\python_code\\\\TrainWord2Vec'"
      ]
     },
     "metadata": {},
     "execution_count": 1
    }
   ],
   "source": [
    "import sys\n",
    "import numpy as np\n",
    "import time\n",
    "import gensim\n",
    "from gensim.models.doc2vec import Doc2Vec, LabeledSentence\n",
    "from gensim.models import word2vec\n",
    "import jieba\n",
    "from jieba import analyse\n",
    "import jieba.analyse\n",
    "import re\n",
    "from string import digits\n",
    "import pandas as pd\n",
    "from tqdm import tqdm\n",
    "import os\n",
    "TaggededDocument = gensim.models.doc2vec.TaggedDocument\n",
    "mp=os.getcwd()\n",
    "mp"
   ]
  },
  {
   "cell_type": "code",
   "execution_count": 2,
   "metadata": {},
   "outputs": [],
   "source": [
    "from gensim.models import KeyedVectors\n",
    "\n",
    "model =  gensim.models.Word2Vec.load(mp+'\\literature_AND_libary') "
   ]
  },
  {
   "cell_type": "code",
   "execution_count": 4,
   "metadata": {},
   "outputs": [
    {
     "output_type": "stream",
     "name": "stderr",
     "text": [
      "ipykernel_launcher:1: DeprecationWarning: Call to deprecated `similar_by_word` (Method will be removed in 4.0.0, use self.wv.similar_by_word() instead).\n"
     ]
    },
    {
     "output_type": "execute_result",
     "data": {
      "text/plain": [
       "[('数字环境下资源著录新标准', 0.8792680501937866),\n",
       " ('数字化资源服务', 0.86995530128479),\n",
       " ('18所有代表性美国学术图书馆创客空间', 0.8274634480476379),\n",
       " ('1997年英编目条例发展会议', 0.8149744272232056),\n",
       " ('16所图书馆开通手机图书馆服务现状', 0.7596064805984497),\n",
       " ('北京师范大学图书馆书目数据', 0.7454614639282227),\n",
       " ('19世纪70年代', 0.7396225333213806),\n",
       " ('以众测', 0.7286792397499084),\n",
       " ('第一手', 0.7157465219497681),\n",
       " ('始于', 0.714661717414856)]"
      ]
     },
     "metadata": {},
     "execution_count": 4
    }
   ],
   "source": [
    "model.similar_by_word('资源描述',topn=10)"
   ]
  },
  {
   "cell_type": "code",
   "execution_count": 70,
   "metadata": {},
   "outputs": [],
   "source": [
    "qq=['知识管理','优化','建设']"
   ]
  },
  {
   "cell_type": "code",
   "execution_count": 71,
   "metadata": {},
   "outputs": [],
   "source": [
    "# model.similar_by_word('监护',topn=10)\n",
    "def SAO_expand(cut_list):\n",
    "    expand=[]#扩展列表\n",
    "    for i in cut_list :\n",
    "        try:\n",
    "            expand.append([i,model.wv.most_similar(i,topn=3)[0][0],model.most_similar(i,topn=3)[1][0],model.most_similar(i,topn=3)[2][0]])#为SAO分别扩展3个词\n",
    "# 扩展之后expand的格式：[['大学图书馆', '高校图书馆', '研究型大学图书馆', '图书馆环境'],['构建', '建立', '建构', '建设'],['学习共享空间', '信息共享空间', '实体空间', '网络一代']]\n",
    "        except KeyError :#如果模型里没这个词，这个SAO不阔展\n",
    "            expand=i\n",
    "            continue\n",
    "\n",
    "    # expand\n",
    "    merge=[]#转置后变成句子\n",
    "    for i in list(map(list, zip(*expand))):\n",
    "        merge.append (''.join(i))\n",
    "    #转置之后的merge格式：['大学图书馆构建学习共享空间','高校图书馆建立信息共享空间',.......]\n",
    "    return merge\n"
   ]
  },
  {
   "cell_type": "code",
   "execution_count": 72,
   "metadata": {},
   "outputs": [
    {
     "output_type": "stream",
     "name": "stderr",
     "text": [
      "E:\\Python3.6.6\\Lib\\site-packages\\ipykernel_launcher.py:6: DeprecationWarning: Call to deprecated `most_similar` (Method will be removed in 4.0.0, use self.wv.most_similar() instead).\n  \n"
     ]
    },
    {
     "output_type": "execute_result",
     "data": {
      "text/plain": [
       "['知识管理优化建设', '知识管理系统配置建设原则', '实施对策结构优化建设策略', 'kms事半功倍工程规划']"
      ]
     },
     "metadata": {},
     "execution_count": 72
    }
   ],
   "source": [
    "SAO_expand(qq)"
   ]
  },
  {
   "cell_type": "code",
   "execution_count": 150,
   "metadata": {},
   "outputs": [],
   "source": [
    "cut_list=['用户','为','中心']"
   ]
  },
  {
   "cell_type": "code",
   "execution_count": 151,
   "metadata": {},
   "outputs": [
    {
     "output_type": "stream",
     "name": "stderr",
     "text": [
      "E:\\Python3.6.6\\Lib\\site-packages\\ipykernel_launcher.py:4: DeprecationWarning: Call to deprecated `most_similar` (Method will be removed in 4.0.0, use self.wv.most_similar() instead).\n  after removing the cwd from sys.path.\n"
     ]
    }
   ],
   "source": [
    "expand=[]#扩展列表\n",
    "for i in cut_list :\n",
    "    try:\n",
    "        expand.append([i,model.wv.most_similar(i,topn=3)[0][0],model.most_similar(i,topn=3)[1][0],model.most_similar(i,topn=3)[2][0]])#为SAO分别扩展3个词\n",
    "# 扩展之后expand的格式：[['大学图书馆', '高校图书馆', '研究型大学图书馆', '图书馆环境'],['构建', '建立', '建构', '建设'],['学习共享空间', '信息共享空间', '实体空间', '网络一代']]\n",
    "    except (KeyError,ValueError) :#如果模型里没这个词，这个SAO不阔展\n",
    "        # expand=['${}$不在模型里'.format(i)]\n",
    "        expand.clear()\n",
    "        break"
   ]
  },
  {
   "cell_type": "code",
   "execution_count": 152,
   "metadata": {},
   "outputs": [
    {
     "output_type": "execute_result",
     "data": {
      "text/plain": [
       "[]"
      ]
     },
     "metadata": {},
     "execution_count": 152
    }
   ],
   "source": [
    "expand"
   ]
  },
  {
   "cell_type": "code",
   "execution_count": 135,
   "metadata": {},
   "outputs": [
    {
     "output_type": "execute_result",
     "data": {
      "text/plain": [
       "'领土'"
      ]
     },
     "metadata": {},
     "execution_count": 135
    }
   ],
   "source": [
    "model.wv.most_similar('中心',topn=3)[1][0]"
   ]
  },
  {
   "cell_type": "code",
   "execution_count": 153,
   "metadata": {},
   "outputs": [],
   "source": [
    "merge=[]#转置后变成句子\n",
    "if len(expand)>1:\n",
    "    for i in list(map(list, zip(*expand))):\n",
    "        merge.append (''.join(i))\n",
    "if len(expand)<=1 :\n",
    "    merge=expand"
   ]
  },
  {
   "cell_type": "code",
   "execution_count": 154,
   "metadata": {},
   "outputs": [
    {
     "output_type": "execute_result",
     "data": {
      "text/plain": [
       "[]"
      ]
     },
     "metadata": {},
     "execution_count": 154
    }
   ],
   "source": [
    "gensim.__version__"
   ]
  },
  {
   "cell_type": "code",
   "execution_count": null,
   "metadata": {},
   "outputs": [],
   "source": []
  }
 ]
}